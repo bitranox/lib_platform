{
  "cells": [
    {
      "cell_type": "code",
      "execution_count": 1,
      "metadata": {
        "pycharm": {}
      },
      "outputs": [
        {
          "name": "stdout",
          "output_type": "stream",
          "text": [
            "Collecting pip\n",
            "\u001b[?25l  Downloading https://files.pythonhosted.org/packages/d8/f3/413bab4ff08e1fc4828dfc59996d721917df8e8583ea85385d51125dceff/pip-19.0.3-py2.py3-none-any.whl (1.4MB)\n",
            "\u001b[K    100% |████████████████████████████████| 1.4MB 1.4MB/s eta 0:00:01\n",
            "\u001b[?25hInstalling collected packages: pip\n",
            "  Found existing installation: pip 18.1\n",
            "    Uninstalling pip-18.1:\n",
            "      Successfully uninstalled pip-18.1\n",
            "Successfully installed pip-19.0.3\n",
            "Requirement already satisfied: lib_platform in /srv/conda/lib/python3.7/site-packages (1.0.0)\n",
            "Requirement already satisfied: pytest in /srv/conda/lib/python3.7/site-packages (from lib_platform) (4.4.0)\n",
            "Requirement already satisfied: typing in /srv/conda/lib/python3.7/site-packages (from lib_platform) (3.6.6)\n",
            "Requirement already satisfied: lib_registry in /srv/conda/lib/python3.7/site-packages (from lib_platform) (1.0.2)\n",
            "Requirement already satisfied: more-itertools\u003e\u003d4.0.0; python_version \u003e \"2.7\" in /srv/conda/lib/python3.7/site-packages (from pytest-\u003elib_platform) (7.0.0)\n",
            "Requirement already satisfied: atomicwrites\u003e\u003d1.0 in /srv/conda/lib/python3.7/site-packages (from pytest-\u003elib_platform) (1.3.0)\n",
            "Requirement already satisfied: py\u003e\u003d1.5.0 in /srv/conda/lib/python3.7/site-packages (from pytest-\u003elib_platform) (1.8.0)\n",
            "Requirement already satisfied: six\u003e\u003d1.10.0 in /srv/conda/lib/python3.7/site-packages (from pytest-\u003elib_platform) (1.12.0)\n",
            "Requirement already satisfied: setuptools in /srv/conda/lib/python3.7/site-packages (from pytest-\u003elib_platform) (40.8.0)\n",
            "Requirement already satisfied: attrs\u003e\u003d17.4.0 in /srv/conda/lib/python3.7/site-packages (from pytest-\u003elib_platform) (19.1.0)\n",
            "Requirement already satisfied: pluggy\u003e\u003d0.9 in /srv/conda/lib/python3.7/site-packages (from pytest-\u003elib_platform) (0.9.0)\n"
          ]
        }
      ],
      "source": [
        "# Install a pip package in the current Jupyter kernel\n",
        "import sys\n",
        "!{sys.executable} -m pip install --upgrade pip\n",
        "!{sys.executable} -m pip install lib_platform"
      ]
    },
    {
      "cell_type": "code",
      "execution_count": 2,
      "metadata": {
        "pycharm": {}
      },
      "outputs": [
        {
          "name": "stdout",
          "output_type": "stream",
          "text": [
            "lib_platform.hostname                 \u003d jupyter-bitranox-2dlib-5fplatform-2d4uld1plc\n",
            "lib_platform.hostname_short           \u003d jupyter-bitranox-2dlib-5fplatform-2d4uld1plc\n",
            "lib_platform.is_platform_darwin       \u003d False\n",
            "lib_platform.is_platform_linux        \u003d True\n",
            "lib_platform.is_platform_posix        \u003d True\n",
            "lib_platform.is_platform_windows      \u003d False\n",
            "lib_platform.is_platform_windows_wine \u003d False\n",
            "lib_platform.is_platform_windows_xp   \u003d None\n",
            "lib_platform.is_python2               \u003d False\n",
            "lib_platform.is_python3               \u003d True\n",
            "lib_platform.path_userhome            \u003d /home/jovyan\n",
            "lib_platform.system                   \u003d linux\n",
            "lib_platform.username                 \u003d jovyan\n"
          ]
        }
      ],
      "source": "import lib_platform\nprint(\u0027lib_platform.hostname                    \u003d {}\u0027.format(lib_platform.hostname))\nprint(\u0027lib_platform.hostname_short              \u003d {}\u0027.format(lib_platform.hostname_short))\nprint(\u0027lib_platform.is_platform_darwin          \u003d {}\u0027.format(lib_platform.is_platform_darwin))\nprint(\u0027lib_platform.is_platform_linux           \u003d {}\u0027.format(lib_platform.is_platform_linux))\nprint(\u0027lib_platform.is_platform_posix           \u003d {}\u0027.format(lib_platform.is_platform_posix))\nprint(\u0027lib_platform.is_platform_windows         \u003d {}\u0027.format(lib_platform.is_platform_windows))\nprint(\u0027lib_platform.is_platform_windows_xp      \u003d {}\u0027.format(lib_platform.is_platform_windows_xp))\nprint(\u0027lib_platform.is_platform_windows_wine    \u003d {}\u0027.format(lib_platform.is_platform_windows_wine))\nprint(\u0027lib_platform.is_platform_windows_wine_xp \u003d {}\u0027.format(lib_platform.is_platform_windows_wine))\nprint(\u0027lib_platform.is_python2                  \u003d {}\u0027.format(lib_platform.is_python2))\nprint(\u0027lib_platform.is_python3                  \u003d {}\u0027.format(lib_platform.is_python3))\nprint(\u0027lib_platform.path_userhome               \u003d {}\u0027.format(lib_platform.path_userhome))\nprint(\u0027lib_platform.system                      \u003d {}\u0027.format(lib_platform.system))\nprint(\u0027lib_platform.username                    \u003d {}\u0027.format(lib_platform.username))"
    },
    {
      "cell_type": "code",
      "execution_count": null,
      "metadata": {
        "pycharm": {
          "metadata": false,
          "name": "#%%\n"
        }
      },
      "outputs": [],
      "source": [
        "\n",
        "\n"
      ]
    }
  ],
  "metadata": {
    "kernelspec": {
      "display_name": "Python 3",
      "language": "python",
      "name": "python3"
    },
    "language_info": {
      "codemirror_mode": {
        "name": "ipython",
        "version": 3
      },
      "file_extension": ".py",
      "mimetype": "text/x-python",
      "name": "python",
      "nbconvert_exporter": "python",
      "pygments_lexer": "ipython3",
      "version": "3.7.2"
    }
  },
  "nbformat": 4,
  "nbformat_minor": 2
}