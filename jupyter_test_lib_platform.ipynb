{
 "cells": [
  {
   "cell_type": "code",
   "execution_count": 1,
   "metadata": {
    "pycharm": {}
   },
   "outputs": [
    {
     "name": "stdout",
     "output_type": "stream",
     "text": [
      "Collecting pip\n",
      "\u001b[?25l  Downloading https://files.pythonhosted.org/packages/d8/f3/413bab4ff08e1fc4828dfc59996d721917df8e8583ea85385d51125dceff/pip-19.0.3-py2.py3-none-any.whl (1.4MB)\n",
      "\u001b[K    100% |████████████████████████████████| 1.4MB 1.4MB/s eta 0:00:01\n",
      "\u001b[?25hInstalling collected packages: pip\n",
      "  Found existing installation: pip 18.1\n",
      "    Uninstalling pip-18.1:\n",
      "      Successfully uninstalled pip-18.1\n",
      "Successfully installed pip-19.0.3\n",
      "Requirement already satisfied: lib_platform in /srv/conda/lib/python3.7/site-packages (1.0.0)\n",
      "Requirement already satisfied: pytest in /srv/conda/lib/python3.7/site-packages (from lib_platform) (4.4.0)\n",
      "Requirement already satisfied: typing in /srv/conda/lib/python3.7/site-packages (from lib_platform) (3.6.6)\n",
      "Requirement already satisfied: lib_registry in /srv/conda/lib/python3.7/site-packages (from lib_platform) (1.0.2)\n",
      "Requirement already satisfied: more-itertools>=4.0.0; python_version > \"2.7\" in /srv/conda/lib/python3.7/site-packages (from pytest->lib_platform) (7.0.0)\n",
      "Requirement already satisfied: atomicwrites>=1.0 in /srv/conda/lib/python3.7/site-packages (from pytest->lib_platform) (1.3.0)\n",
      "Requirement already satisfied: py>=1.5.0 in /srv/conda/lib/python3.7/site-packages (from pytest->lib_platform) (1.8.0)\n",
      "Requirement already satisfied: six>=1.10.0 in /srv/conda/lib/python3.7/site-packages (from pytest->lib_platform) (1.12.0)\n",
      "Requirement already satisfied: setuptools in /srv/conda/lib/python3.7/site-packages (from pytest->lib_platform) (40.8.0)\n",
      "Requirement already satisfied: attrs>=17.4.0 in /srv/conda/lib/python3.7/site-packages (from pytest->lib_platform) (19.1.0)\n",
      "Requirement already satisfied: pluggy>=0.9 in /srv/conda/lib/python3.7/site-packages (from pytest->lib_platform) (0.9.0)\n"
     ]
    }
   ],
   "source": [
    "# Install a pip package in the current Jupyter kernel\n",
    "import sys\n",
    "!{sys.executable} -m pip install --upgrade pip\n",
    "!{sys.executable} -m pip install lib_platform"
   ]
  },
  {
   "cell_type": "code",
   "execution_count": 2,
   "metadata": {
    "pycharm": {}
   },
   "outputs": [
    {
     "name": "stdout",
     "output_type": "stream",
     "text": [
      "lib_platform.hostname                 = jupyter-bitranox-2dlib-5fplatform-2d4uld1plc\n",
      "lib_platform.hostname_short           = jupyter-bitranox-2dlib-5fplatform-2d4uld1plc\n",
      "lib_platform.is_platform_darwin       = False\n",
      "lib_platform.is_platform_linux        = True\n",
      "lib_platform.is_platform_posix        = True\n",
      "lib_platform.is_platform_windows      = False\n",
      "lib_platform.is_platform_windows_wine = False\n",
      "lib_platform.is_platform_windows_xp   = None\n",
      "lib_platform.is_python2               = False\n",
      "lib_platform.is_python3               = True\n",
      "lib_platform.path_userhome            = /home/jovyan\n",
      "lib_platform.system                   = linux\n",
      "lib_platform.username                 = jovyan\n"
     ]
    }
   ],
   "source": [
    "import lib_platform\n",
    "print('lib_platform.hostname                 = {}'.format(lib_platform.hostname))\n",
    "print('lib_platform.hostname_short           = {}'.format(lib_platform.hostname_short))\n",
    "print('lib_platform.is_platform_darwin       = {}'.format(lib_platform.is_platform_darwin))\n",
    "print('lib_platform.is_platform_linux        = {}'.format(lib_platform.is_platform_linux))\n",
    "print('lib_platform.is_platform_posix        = {}'.format(lib_platform.is_platform_posix))\n",
    "print('lib_platform.is_platform_windows      = {}'.format(lib_platform.is_platform_windows))\n",
    "print('lib_platform.is_platform_windows_wine = {}'.format(lib_platform.is_platform_windows_wine))\n",
    "print('lib_platform.is_platform_windows_xp   = {}'.format(lib_platform.is_platform_windows_xp))\n",
    "print('lib_platform.is_python2               = {}'.format(lib_platform.is_python2))\n",
    "print('lib_platform.is_python3               = {}'.format(lib_platform.is_python3))\n",
    "print('lib_platform.path_userhome            = {}'.format(lib_platform.path_userhome))\n",
    "print('lib_platform.system                   = {}'.format(lib_platform.system))\n",
    "print('lib_platform.username                 = {}'.format(lib_platform.username))"
   ]
  },
  {
   "cell_type": "code",
   "execution_count": null,
   "metadata": {
    "pycharm": {
     "metadata": false,
     "name": "#%%\n"
    }
   },
   "outputs": [],
   "source": [
    "\n",
    "\n"
   ]
  }
 ],
 "metadata": {
  "kernelspec": {
   "display_name": "Python 3",
   "language": "python",
   "name": "python3"
  },
  "language_info": {
   "codemirror_mode": {
    "name": "ipython",
    "version": 3
   },
   "file_extension": ".py",
   "mimetype": "text/x-python",
   "name": "python",
   "nbconvert_exporter": "python",
   "pygments_lexer": "ipython3",
   "version": "3.7.2"
  }
 },
 "nbformat": 4,
 "nbformat_minor": 2
}
