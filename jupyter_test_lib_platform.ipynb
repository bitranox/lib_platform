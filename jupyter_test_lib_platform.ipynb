{
  "cells": [
    {
      "cell_type": "code",
      "execution_count": 1,
      "metadata": {
        "pycharm": {}
      },
      "outputs": [
        {
          "name": "stdout",
          "output_type": "stream",
          "text": [
            "Collecting pip\n",
            "\u001b[?25l  Downloading https://files.pythonhosted.org/packages/d8/f3/413bab4ff08e1fc4828dfc59996d721917df8e8583ea85385d51125dceff/pip-19.0.3-py2.py3-none-any.whl (1.4MB)\n",
            "\u001b[K    100% |████████████████████████████████| 1.4MB 3.5MB/s eta 0:00:01\n",
            "\u001b[?25hInstalling collected packages: pip\n",
            "  Found existing installation: pip 18.1\n",
            "    Uninstalling pip-18.1:\n",
            "      Successfully uninstalled pip-18.1\n",
            "Successfully installed pip-19.0.3\n",
            "Collecting https://github.com/bitranox/wrapt_timeout_decorator/archive/master.zip\n",
            "  Downloading https://github.com/bitranox/wrapt_timeout_decorator/archive/master.zip\n",
            "\u001b[K     - 337kB 159.2MB/s\n",
            "Requirement already satisfied (use --upgrade to upgrade): wrapt-timeout-decorator\u003d\u003d1.0.9 from https://github.com/bitranox/wrapt_timeout_decorator/archive/master.zip in /srv/conda/lib/python3.7/site-packages\n",
            "Requirement already satisfied: dill in /srv/conda/lib/python3.7/site-packages (from wrapt-timeout-decorator\u003d\u003d1.0.9) (0.2.9)\n",
            "Requirement already satisfied: multiprocess in /srv/conda/lib/python3.7/site-packages (from wrapt-timeout-decorator\u003d\u003d1.0.9) (0.70.7)\n",
            "Requirement already satisfied: wrapt in /srv/conda/lib/python3.7/site-packages (from wrapt-timeout-decorator\u003d\u003d1.0.9) (1.11.1)\n",
            "Requirement already satisfied: pytest in /srv/conda/lib/python3.7/site-packages (from wrapt-timeout-decorator\u003d\u003d1.0.9) (4.3.1)\n",
            "Requirement already satisfied: typing in /srv/conda/lib/python3.7/site-packages (from wrapt-timeout-decorator\u003d\u003d1.0.9) (3.6.6)\n",
            "Requirement already satisfied: atomicwrites\u003e\u003d1.0 in /srv/conda/lib/python3.7/site-packages (from pytest-\u003ewrapt-timeout-decorator\u003d\u003d1.0.9) (1.3.0)\n",
            "Requirement already satisfied: six\u003e\u003d1.10.0 in /srv/conda/lib/python3.7/site-packages (from pytest-\u003ewrapt-timeout-decorator\u003d\u003d1.0.9) (1.12.0)\n",
            "Requirement already satisfied: pluggy\u003e\u003d0.7 in /srv/conda/lib/python3.7/site-packages (from pytest-\u003ewrapt-timeout-decorator\u003d\u003d1.0.9) (0.9.0)\n",
            "Requirement already satisfied: attrs\u003e\u003d17.4.0 in /srv/conda/lib/python3.7/site-packages (from pytest-\u003ewrapt-timeout-decorator\u003d\u003d1.0.9) (19.1.0)\n",
            "Requirement already satisfied: more-itertools\u003e\u003d4.0.0; python_version \u003e \"2.7\" in /srv/conda/lib/python3.7/site-packages (from pytest-\u003ewrapt-timeout-decorator\u003d\u003d1.0.9) (7.0.0)\n",
            "Requirement already satisfied: setuptools in /srv/conda/lib/python3.7/site-packages (from pytest-\u003ewrapt-timeout-decorator\u003d\u003d1.0.9) (40.8.0)\n",
            "Requirement already satisfied: py\u003e\u003d1.5.0 in /srv/conda/lib/python3.7/site-packages (from pytest-\u003ewrapt-timeout-decorator\u003d\u003d1.0.9) (1.8.0)\n",
            "Building wheels for collected packages: wrapt-timeout-decorator\n",
            "  Building wheel for wrapt-timeout-decorator (setup.py) ... \u001b[?25ldone\n",
            "\u001b[?25h  Stored in directory: /tmp/pip-ephem-wheel-cache-xucpcsxy/wheels/ef/5a/8a/89de1bf581edcc0d73dfd57dfbe725b5a57819fe1836d180fb\n",
            "Successfully built wrapt-timeout-decorator\n"
          ]
        }
      ],
      "source": "# Install a pip package in the current Jupyter kernel\nimport sys\n!{sys.executable} -m pip install --upgrade pip\n!{sys.executable} -m pip install https://github.com/bitranox/lib_platform/archive/master.zip\n    "
    },
    {
      "cell_type": "code",
      "execution_count": 2,
      "metadata": {
        "pycharm": {}
      },
      "outputs": [
        {
          "name": "stdout",
          "output_type": "stream",
          "text": [
            "starting\n",
            "1 seconds have passed\n",
            "2 seconds have passed\n",
            "3 seconds have passed\n",
            "4 seconds have passed\n"
          ]
        },
        {
          "ename": "TimeoutError",
          "evalue": "Function mytest timed out after 5 seconds",
          "output_type": "error",
          "traceback": [
            "\u001b[0;31m---------------------------------------------------------------------------\u001b[0m",
            "\u001b[0;31mTimeoutError\u001b[0m                              Traceback (most recent call last)",
            "\u001b[0;32m\u003cipython-input-2-27cecca58c0a\u003e\u001b[0m in \u001b[0;36m\u003cmodule\u003e\u001b[0;34m\u001b[0m\n\u001b[1;32m     10\u001b[0m \u001b[0;34m\u001b[0m\u001b[0m\n\u001b[1;32m     11\u001b[0m \u001b[0;32mif\u001b[0m \u001b[0m__name__\u001b[0m \u001b[0;34m\u003d\u003d\u001b[0m \u001b[0;34m\u0027__main__\u0027\u001b[0m\u001b[0;34m:\u001b[0m\u001b[0;34m\u001b[0m\u001b[0;34m\u001b[0m\u001b[0m\n\u001b[0;32m---\u003e 12\u001b[0;31m     \u001b[0mmytest\u001b[0m\u001b[0;34m(\u001b[0m\u001b[0;34m\u0027starting\u0027\u001b[0m\u001b[0;34m)\u001b[0m\u001b[0;34m\u001b[0m\u001b[0;34m\u001b[0m\u001b[0m\n\u001b[0m",
            "\u001b[0;32m~/wrapt_timeout_decorator/wrapt_timeout_decorator.py\u001b[0m in \u001b[0;36mwrapper\u001b[0;34m(wrapped, instance, args, kwargs)\u001b[0m\n\u001b[1;32m    120\u001b[0m                 \u001b[0;32mtry\u001b[0m\u001b[0;34m:\u001b[0m\u001b[0;34m\u001b[0m\u001b[0;34m\u001b[0m\u001b[0m\n\u001b[1;32m    121\u001b[0m                     \u001b[0mwrap_helper\u001b[0m\u001b[0;34m.\u001b[0m\u001b[0msave_old_and_set_new_alarm_handler\u001b[0m\u001b[0;34m(\u001b[0m\u001b[0;34m)\u001b[0m\u001b[0;34m\u001b[0m\u001b[0;34m\u001b[0m\u001b[0m\n\u001b[0;32m--\u003e 122\u001b[0;31m                     \u001b[0;32mreturn\u001b[0m \u001b[0mwrapped\u001b[0m\u001b[0;34m(\u001b[0m\u001b[0;34m*\u001b[0m\u001b[0margs\u001b[0m\u001b[0;34m,\u001b[0m \u001b[0;34m**\u001b[0m\u001b[0mkwargs\u001b[0m\u001b[0;34m)\u001b[0m\u001b[0;34m\u001b[0m\u001b[0;34m\u001b[0m\u001b[0m\n\u001b[0m\u001b[1;32m    123\u001b[0m                 \u001b[0;32mfinally\u001b[0m\u001b[0;34m:\u001b[0m\u001b[0;34m\u001b[0m\u001b[0;34m\u001b[0m\u001b[0m\n\u001b[1;32m    124\u001b[0m                     \u001b[0mwrap_helper\u001b[0m\u001b[0;34m.\u001b[0m\u001b[0mrestore_old_alarm_handler\u001b[0m\u001b[0;34m(\u001b[0m\u001b[0;34m)\u001b[0m\u001b[0;34m\u001b[0m\u001b[0;34m\u001b[0m\u001b[0m\n",
            "\u001b[0;32m\u003cipython-input-2-27cecca58c0a\u003e\u001b[0m in \u001b[0;36mmytest\u001b[0;34m(message)\u001b[0m\n\u001b[1;32m      6\u001b[0m     \u001b[0mprint\u001b[0m\u001b[0;34m(\u001b[0m\u001b[0mmessage\u001b[0m\u001b[0;34m)\u001b[0m\u001b[0;34m\u001b[0m\u001b[0;34m\u001b[0m\u001b[0m\n\u001b[1;32m      7\u001b[0m     \u001b[0;32mfor\u001b[0m \u001b[0mi\u001b[0m \u001b[0;32min\u001b[0m \u001b[0mrange\u001b[0m\u001b[0;34m(\u001b[0m\u001b[0;36m1\u001b[0m\u001b[0;34m,\u001b[0m\u001b[0;36m10\u001b[0m\u001b[0;34m)\u001b[0m\u001b[0;34m:\u001b[0m\u001b[0;34m\u001b[0m\u001b[0;34m\u001b[0m\u001b[0m\n\u001b[0;32m----\u003e 8\u001b[0;31m         \u001b[0mtime\u001b[0m\u001b[0;34m.\u001b[0m\u001b[0msleep\u001b[0m\u001b[0;34m(\u001b[0m\u001b[0;36m1\u001b[0m\u001b[0;34m)\u001b[0m\u001b[0;34m\u001b[0m\u001b[0;34m\u001b[0m\u001b[0m\n\u001b[0m\u001b[1;32m      9\u001b[0m         \u001b[0mprint\u001b[0m\u001b[0;34m(\u001b[0m\u001b[0;34m\u0027{} seconds have passed\u0027\u001b[0m\u001b[0;34m.\u001b[0m\u001b[0mformat\u001b[0m\u001b[0;34m(\u001b[0m\u001b[0mi\u001b[0m\u001b[0;34m)\u001b[0m\u001b[0;34m)\u001b[0m\u001b[0;34m\u001b[0m\u001b[0;34m\u001b[0m\u001b[0m\n\u001b[1;32m     10\u001b[0m \u001b[0;34m\u001b[0m\u001b[0m\n",
            "\u001b[0;32m~/wrapt_timeout_decorator/wrap_helper.py\u001b[0m in \u001b[0;36mnew_alarm_handler\u001b[0;34m(self, signum, frame)\u001b[0m\n\u001b[1;32m     40\u001b[0m \u001b[0;34m\u001b[0m\u001b[0m\n\u001b[1;32m     41\u001b[0m     \u001b[0;32mdef\u001b[0m \u001b[0mnew_alarm_handler\u001b[0m\u001b[0;34m(\u001b[0m\u001b[0mself\u001b[0m\u001b[0;34m,\u001b[0m \u001b[0msignum\u001b[0m\u001b[0;34m,\u001b[0m \u001b[0mframe\u001b[0m\u001b[0;34m)\u001b[0m\u001b[0;34m:\u001b[0m\u001b[0;34m\u001b[0m\u001b[0;34m\u001b[0m\u001b[0m\n\u001b[0;32m---\u003e 42\u001b[0;31m         \u001b[0mraise_exception\u001b[0m\u001b[0;34m(\u001b[0m\u001b[0mself\u001b[0m\u001b[0;34m.\u001b[0m\u001b[0mtimeout_exception\u001b[0m\u001b[0;34m,\u001b[0m \u001b[0mself\u001b[0m\u001b[0;34m.\u001b[0m\u001b[0mexception_message\u001b[0m\u001b[0;34m)\u001b[0m\u001b[0;34m\u001b[0m\u001b[0;34m\u001b[0m\u001b[0m\n\u001b[0m\u001b[1;32m     43\u001b[0m \u001b[0;34m\u001b[0m\u001b[0m\n\u001b[1;32m     44\u001b[0m     \u001b[0;32mdef\u001b[0m \u001b[0msave_old_and_set_new_alarm_handler\u001b[0m\u001b[0;34m(\u001b[0m\u001b[0mself\u001b[0m\u001b[0;34m)\u001b[0m\u001b[0;34m:\u001b[0m\u001b[0;34m\u001b[0m\u001b[0;34m\u001b[0m\u001b[0m\n",
            "\u001b[0;32m~/wrapt_timeout_decorator/wrap_helper.py\u001b[0m in \u001b[0;36mraise_exception\u001b[0;34m(exception, exception_message)\u001b[0m\n\u001b[1;32m     81\u001b[0m     \u001b[0;32mif\u001b[0m \u001b[0;32mnot\u001b[0m \u001b[0mexception\u001b[0m\u001b[0;34m:\u001b[0m\u001b[0;34m\u001b[0m\u001b[0;34m\u001b[0m\u001b[0m\n\u001b[1;32m     82\u001b[0m         \u001b[0mexception\u001b[0m \u001b[0;34m\u003d\u001b[0m \u001b[0mTimeoutError\u001b[0m\u001b[0;34m\u001b[0m\u001b[0;34m\u001b[0m\u001b[0m\n\u001b[0;32m---\u003e 83\u001b[0;31m     \u001b[0;32mraise\u001b[0m \u001b[0mexception\u001b[0m\u001b[0;34m(\u001b[0m\u001b[0mexception_message\u001b[0m\u001b[0;34m)\u001b[0m\u001b[0;34m\u001b[0m\u001b[0;34m\u001b[0m\u001b[0m\n\u001b[0m\u001b[1;32m     84\u001b[0m \u001b[0;34m\u001b[0m\u001b[0m\n\u001b[1;32m     85\u001b[0m \u001b[0;34m\u001b[0m\u001b[0m\n",
            "\u001b[0;31mTimeoutError\u001b[0m: Function mytest timed out after 5 seconds"
          ]
        }
      ],
      "source": "import lib_platform\n"
    },
    {
      "cell_type": "code",
      "execution_count": null,
      "outputs": [],
      "source": "print(lib_platform.hostname)\nprint(lib_platform.hostname_short)\nprint(lib_platform.is_platform_darwin)\nprint(lib_platform.is_platform_linux)\nprint(lib_platform.is_platform_posix)\nprint(lib_platform.is_platform_windows)\nprint(lib_platform.is_platform_windows_wine)\nprint(lib_platform.is_platform_windows_xp)\nprint(lib_platform.is_python2)\nprint(lib_platform.is_python3)\nprint(lib_platform.path_userhome)\nprint(lib_platform.system)\nprint(lib_platform.username)\n\n",
      "metadata": {
        "pycharm": {
          "metadata": false,
          "name": "#%%\n"
        }
      }
    }
  ],
  "metadata": {
    "kernelspec": {
      "display_name": "Python 3",
      "language": "python",
      "name": "python3"
    },
    "language_info": {
      "codemirror_mode": {
        "name": "ipython",
        "version": 3
      },
      "file_extension": ".py",
      "mimetype": "text/x-python",
      "name": "python",
      "nbconvert_exporter": "python",
      "pygments_lexer": "ipython3",
      "version": "3.7.2"
    }
  },
  "nbformat": 4,
  "nbformat_minor": 2
}